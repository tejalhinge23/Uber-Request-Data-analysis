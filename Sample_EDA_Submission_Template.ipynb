{
  "nbformat": 4,
  "nbformat_minor": 0,
  "metadata": {
    "colab": {
      "private_outputs": true,
      "provenance": [],
      "collapsed_sections": [
        "vncDsAP0Gaoa",
        "FJNUwmbgGyua",
        "w6K7xa23Elo4",
        "yQaldy8SH6Dl",
        "PH-0ReGfmX4f",
        "mDgbUHAGgjLW",
        "O_i_v8NEhb9l",
        "HhfV-JJviCcP",
        "Y3lxredqlCYt",
        "3RnN4peoiCZX",
        "x71ZqKXriCWQ",
        "7hBIi_osiCS2",
        "JlHwYmJAmNHm",
        "35m5QtbWiB9F",
        "PoPl-ycgm1ru",
        "H0kj-8xxnORC",
        "nA9Y7ga8ng1Z",
        "PBTbrJXOngz2",
        "u3PMJOP6ngxN",
        "dauF4eBmngu3",
        "bKJF3rekwFvQ",
        "MSa1f5Uengrz",
        "GF8Ens_Soomf",
        "0wOQAZs5pc--",
        "K5QZ13OEpz2H",
        "lQ7QKXXCp7Bj",
        "448CDAPjqfQr",
        "KSlN3yHqYklG",
        "t6dVpIINYklI",
        "ijmpgYnKYklI",
        "-JiQyfWJYklI",
        "EM7whBJCYoAo",
        "fge-S5ZAYoAp",
        "85gYPyotYoAp",
        "RoGjAbkUYoAp",
        "4Of9eVA-YrdM",
        "iky9q4vBYrdO",
        "F6T5p64dYrdO",
        "y-Ehk30pYrdP",
        "bamQiAODYuh1",
        "QHF8YVU7Yuh3",
        "GwzvFGzlYuh3",
        "qYpmQ266Yuh3",
        "OH-pJp9IphqM",
        "bbFf2-_FphqN",
        "_ouA3fa0phqN",
        "Seke61FWphqN",
        "PIIx-8_IphqN",
        "t27r6nlMphqO",
        "r2jJGEOYphqO",
        "b0JNsNcRphqO",
        "BZR9WyysphqO",
        "jj7wYXLtphqO",
        "eZrbJ2SmphqO",
        "rFu4xreNphqO",
        "YJ55k-q6phqO",
        "gCFgpxoyphqP",
        "OVtJsKN_phqQ",
        "lssrdh5qphqQ",
        "U2RJ9gkRphqQ",
        "1M8mcRywphqQ",
        "tgIPom80phqQ",
        "JMzcOPDDphqR",
        "x-EpHcCOp1ci",
        "X_VqEhTip1ck",
        "8zGJKyg5p1ck",
        "PVzmfK_Ep1ck",
        "n3dbpmDWp1ck",
        "ylSl6qgtp1ck",
        "ZWILFDl5p1ck",
        "M7G43BXep1ck",
        "Ag9LCva-p1cl",
        "E6MkPsBcp1cl",
        "2cELzS2fp1cl",
        "3MPXvC8up1cl",
        "NC_X3p0fY2L0",
        "UV0SzAkaZNRQ",
        "YPEH6qLeZNRQ",
        "q29F0dvdveiT",
        "EXh0U9oCveiU",
        "22aHeOlLveiV",
        "JcMwzZxoAimU",
        "8G2x9gOozGDZ",
        "gCX9965dhzqZ",
        "gIfDvo9L0UH2"
      ],
      "include_colab_link": true
    },
    "kernelspec": {
      "name": "python3",
      "display_name": "Python 3"
    },
    "language_info": {
      "name": "python"
    }
  },
  "cells": [
    {
      "cell_type": "markdown",
      "metadata": {
        "id": "view-in-github",
        "colab_type": "text"
      },
      "source": [
        "<a href=\"https://colab.research.google.com/github/tejalhinge23/Uber-Request-Data-analysis/blob/main/Sample_EDA_Submission_Template.ipynb\" target=\"_parent\"><img src=\"https://colab.research.google.com/assets/colab-badge.svg\" alt=\"Open In Colab\"/></a>"
      ]
    },
    {
      "cell_type": "code",
      "source": [],
      "metadata": {
        "id": "I1apcow5dxii"
      },
      "execution_count": null,
      "outputs": []
    },
    {
      "cell_type": "markdown",
      "source": [
        "# **Project Name**    -\n",
        "\n"
      ],
      "metadata": {
        "id": "vncDsAP0Gaoa"
      }
    },
    {
      "cell_type": "markdown",
      "source": [
        "Uber Request Data Analysis"
      ],
      "metadata": {
        "id": "1-CCYiz1_wvf"
      }
    },
    {
      "cell_type": "markdown",
      "source": [
        "# **Project Summary -**"
      ],
      "metadata": {
        "id": "FJNUwmbgGyua"
      }
    },
    {
      "cell_type": "markdown",
      "source": [
        "The primary goal of this project was to perform a comprehensive analysis of Uber’s ride request data to identify operational bottlenecks, with a focus on detecting the demand–supply gap, understanding cancellation trends, and evaluating request patterns across different times of the day and pickup points. By leveraging exploratory data analysis (EDA) techniques, the project aimed to generate actionable insights to improve service availability and customer satisfaction."
      ],
      "metadata": {
        "id": "ECbL0RKp_-Ox"
      }
    },
    {
      "cell_type": "markdown",
      "source": [
        "Write the summary here within 500-600 words."
      ],
      "metadata": {
        "id": "F6v_1wHtG2nS"
      }
    },
    {
      "cell_type": "markdown",
      "source": [
        "# **GitHub Link -**"
      ],
      "metadata": {
        "id": "w6K7xa23Elo4"
      }
    },
    {
      "cell_type": "markdown",
      "source": [
        "https://github.com/tejalhinge23"
      ],
      "metadata": {
        "id": "UpWyVWCWCACQ"
      }
    },
    {
      "cell_type": "markdown",
      "source": [
        "Provide your GitHub Link here."
      ],
      "metadata": {
        "id": "h1o69JH3Eqqn"
      }
    },
    {
      "cell_type": "markdown",
      "source": [
        "# **Problem Statement**\n"
      ],
      "metadata": {
        "id": "yQaldy8SH6Dl"
      }
    },
    {
      "cell_type": "markdown",
      "source": [
        "Uber, a leading ride-hailing service, aims to provide reliable and timely transportation to its users. However, frequent complaints from customers—especially regarding cancellations, long wait times, and \"No Cars Available\" messages—highlight a possible mismatch between rider demand and driver supply at specific times and locations.\n",
        "\n",
        "The company seeks to understand the underlying causes of these service disruptions by analyzing historical ride request data. This analysis should reveal:\n",
        "\n",
        "When and where demand exceeds supply\n",
        "\n",
        "The factors leading to ride cancellations\n",
        "\n",
        "Time slots with low driver availability\n",
        "\n",
        "Patterns in pickup behavior at City vs Airport"
      ],
      "metadata": {
        "id": "k2WJomixHcte"
      }
    },
    {
      "cell_type": "markdown",
      "source": [
        "**Write Problem Statement Here.**"
      ],
      "metadata": {
        "id": "DpeJGUA3kjGy"
      }
    },
    {
      "cell_type": "markdown",
      "source": [
        "#### **Define Your Business Objective?**"
      ],
      "metadata": {
        "id": "PH-0ReGfmX4f"
      }
    },
    {
      "cell_type": "markdown",
      "source": [
        "Answer Here."
      ],
      "metadata": {
        "id": "PhDvGCAqmjP1"
      }
    },
    {
      "cell_type": "markdown",
      "source": [
        "The core business objective of this project is to help Uber optimize its ride-hailing operations by identifying and addressing service inefficiencies that lead to poor user experiences—particularly caused by ride cancellations, cab unavailability, and mismatched supply and demand.\n",
        "\n",
        "Specifically, the goal is to:\n",
        "\n",
        "Analyze historical ride request data to uncover patterns in rider demand and driver availability\n",
        "\n",
        "Pinpoint critical time slots and locations where supply-demand imbalances are most severe\n",
        "\n",
        "Provide data-driven recommendations to:\n",
        "\n",
        "Minimize ride cancellations\n",
        "\n",
        "Increase driver participation during high-demand hours\n",
        "\n",
        "Improve customer satisfaction and retention\n",
        "\n",
        "Support future resource allocation and pricing strategy decisions"
      ],
      "metadata": {
        "id": "bnBONsmKHgpx"
      }
    },
    {
      "cell_type": "markdown",
      "source": [
        "# **General Guidelines** : -  "
      ],
      "metadata": {
        "id": "mDgbUHAGgjLW"
      }
    },
    {
      "cell_type": "markdown",
      "source": [
        "1.   Well-structured, formatted, and commented code is required.\n",
        "2.   Exception Handling, Production Grade Code & Deployment Ready Code will be a plus. Those students will be awarded some additional credits.\n",
        "     \n",
        "     The additional credits will have advantages over other students during Star Student selection.\n",
        "       \n",
        "             [ Note: - Deployment Ready Code is defined as, the whole .ipynb notebook should be executable in one go\n",
        "                       without a single error logged. ]\n",
        "\n",
        "3.   Each and every logic should have proper comments.\n",
        "4. You may add as many number of charts you want. Make Sure for each and every chart the following format should be answered.\n",
        "        \n",
        "\n",
        "```\n",
        "# Chart visualization code\n",
        "```\n",
        "            \n",
        "\n",
        "*   Why did you pick the specific chart?\n",
        "*   What is/are the insight(s) found from the chart?\n",
        "* Will the gained insights help creating a positive business impact?\n",
        "Are there any insights that lead to negative growth? Justify with specific reason.\n",
        "\n",
        "5. You have to create at least 20 logical & meaningful charts having important insights.\n",
        "\n",
        "\n",
        "[ Hints : - Do the Vizualization in  a structured way while following \"UBM\" Rule.\n",
        "\n",
        "U - Univariate Analysis,\n",
        "\n",
        "B - Bivariate Analysis (Numerical - Categorical, Numerical - Numerical, Categorical - Categorical)\n",
        "\n",
        "M - Multivariate Analysis\n",
        " ]\n",
        "\n",
        "\n",
        "\n"
      ],
      "metadata": {
        "id": "ZrxVaUj-hHfC"
      }
    },
    {
      "cell_type": "markdown",
      "source": [],
      "metadata": {
        "id": "kRkaF4ADHx9H"
      }
    },
    {
      "cell_type": "markdown",
      "source": [
        "plt.figure(figsize=(6, 4))\n",
        "sns.countplot(data=df, x=\"Status\", order=df[\"Status\"].value_counts().index)\n",
        "plt.title(\"Request Status Count\")\n",
        "plt.show()\n",
        "\n",
        "1)The countplot for the Status column was chosen because:\n",
        "\n",
        "It summarizes the final outcome of all Uber ride requests in a clear and visual way.\n",
        "\n",
        "It allows us to compare the number of trips that were Completed, Cancelled, or marked as No Cars Available.\n",
        "\n",
        "Since Status is a categorical variable, a bar chart is the most appropriate visualization to show frequency distributions.\n",
        "\n",
        "2)The chart typically shows that:\n",
        "\n",
        "A substantial number of rides are \"Trip Completed\", which is expected.\n",
        "\n",
        "A significant portion of rides are \"Cancelled\" by drivers or customers.\n",
        "\n",
        "A large and concerning number of requests result in \"No Cars Available\".\n",
        "\n",
        "This reveals that:\n",
        "\n",
        "Service demand is not always met by supply, especially during certain times or at specific pickup points.\n",
        "\n",
        "Uber is potentially losing a large number of customers due to unavailability and cancellations.\n",
        "\n",
        "3)By identifying the magnitude of trip failures (cancelled and unserved rides), Uber can:\n",
        "\n",
        "Improve driver allocation during peak times.\n",
        "\n",
        "Introduce dynamic pricing or incentives to reduce cancellations.\n",
        "\n",
        "Implement predictive scheduling models to reduce “No Cars Available” cases.\n",
        "\n",
        "This leads to:\n",
        "\n",
        "Higher ride completion rates\n",
        "\n",
        "Better user experience\n",
        "\n",
        "Increased revenue and brand trust."
      ],
      "metadata": {
        "id": "F30KJAtGJCde"
      }
    },
    {
      "cell_type": "markdown",
      "source": [
        "plt.figure(figsize=(6, 4))\n",
        "sns.countplot(data=df, x=\"Pickup point\", hue=\"Status\")\n",
        "plt.title(\"Pickup Point vs Status\")\n",
        "plt.show()\n",
        "\n",
        "1)This chart visualizes how request outcomes (Status) differ between City and Airport pickup locations.It gives a comparative view of demand satisfaction by location.Grouped bar charts are ideal here because we’re comparing multiple categorical variables (Pickup Point × Status).\n",
        "\n",
        "2)City Pickup Point:\n",
        "Higher number of cancellations by drivers, especially in the early morning.\n",
        "Moderate levels of completed trips and some “No Cars Available”.\n",
        "\n",
        "Airport Pickup Point:\n",
        "High \"No Cars Available\" rate, especially during nighttime hours.\n",
        "Slightly more successful completions than the city during the day.\n",
        "\n",
        "3)Helps Uber allocate more drivers based on location-specific trends.\n",
        "Promotes dynamic driver incentives:\n",
        "Offer morning bonuses in the city to reduce cancellations.\n",
        "Encourage night shifts near the airport to increase availability.\n",
        "Supports data-driven planning for surge pricing or predictive deployment."
      ],
      "metadata": {
        "id": "FAtMkurkJ6RK"
      }
    },
    {
      "cell_type": "markdown",
      "source": [
        "df[\"Request Hour\"] = df[\"Request timestamp\"].dt.hour\n",
        "plt.figure(figsize=(10, 4))\n",
        "sns.countplot(x=\"Request Hour\", data=df, order=sorted(df[\"Request Hour\"].unique()))\n",
        "plt.title(\"Requests by Hour of Day\")\n",
        "plt.show()\n",
        "\n",
        "1)This chart provides a time-based view of rider demand across the day.\n",
        "\n",
        "It helps identify peak demand hours and off-peak periods.\n",
        "\n",
        "This kind of hourly distribution is essential for operational planning:\n",
        "\n",
        "When to allocate more drivers\n",
        "\n",
        "When surge pricing should apply\n",
        "\n",
        "When downtime can be expected\n",
        "\n",
        "Bar charts are ideal for this type of frequency comparison.\n",
        "\n",
        "2)Peak demand occurs between 5 AM and 9 AM (early morning) and again in the evening (5 PM to 9 PM).\n",
        "\n",
        "Lowest activity occurs late at night (1 AM to 4 AM).\n",
        "\n",
        "Morning peak likely corresponds to airport-bound business or work trips.\n",
        "\n",
        "Evening peak aligns with commute home or social travel.\n",
        "\n",
        "These patterns align with typical urban ride-hailing behavior.\n",
        "\n",
        "3)Optimize driver shift scheduling: Ensure more drivers are active during high-demand periods.\n",
        "\n",
        "Boost revenue: Use surge pricing intelligently during peak hours.\n",
        "\n",
        "Improve service reliability: Avoid “No Cars Available” messages by predicting driver need in advance.\n",
        "\n",
        "Customer satisfaction improves when requests are met promptly during busy hours."
      ],
      "metadata": {
        "id": "iGmFjWEbI_N_"
      }
    },
    {
      "cell_type": "markdown",
      "source": [],
      "metadata": {
        "id": "zVr4gldPIgL7"
      }
    },
    {
      "cell_type": "markdown",
      "source": [
        "# ***Let's Begin !***"
      ],
      "metadata": {
        "id": "O_i_v8NEhb9l"
      }
    },
    {
      "cell_type": "markdown",
      "source": [
        "## ***1. Know Your Data***"
      ],
      "metadata": {
        "id": "HhfV-JJviCcP"
      }
    },
    {
      "cell_type": "markdown",
      "source": [
        "import pandas as pd\n",
        "import numpy as np\n",
        "import matplotlib.pyplot as plt\n",
        "import seaborn as sns"
      ],
      "metadata": {
        "id": "Y3lxredqlCYt"
      }
    },
    {
      "cell_type": "code",
      "source": [
        "import pandas as pd\n",
        "import numpy as np\n",
        "import matplotlib.pyplot as plt\n",
        "import seaborn as sns"
      ],
      "metadata": {
        "id": "M8Vqi-pPk-HR"
      },
      "execution_count": null,
      "outputs": []
    },
    {
      "cell_type": "markdown",
      "source": [
        "### Dataset Loading"
      ],
      "metadata": {
        "id": "3RnN4peoiCZX"
      }
    },
    {
      "cell_type": "code",
      "source": [
        "\n",
        "from google.colab import files\n",
        "uploaded = files.upload()\n",
        "import pandas as pd\n",
        "df = pd.read_csv(\"Uber_Request_Data_Cleaned.csv\", parse_dates=[\"Request timestamp\", \"Drop timestamp\"])\n",
        "\n"
      ],
      "metadata": {
        "id": "4CkvbW_SlZ_R"
      },
      "execution_count": null,
      "outputs": []
    },
    {
      "cell_type": "markdown",
      "source": [
        "### Dataset First View"
      ],
      "metadata": {
        "id": "x71ZqKXriCWQ"
      }
    },
    {
      "cell_type": "code",
      "source": [
        "display(df.head())"
      ],
      "metadata": {
        "id": "LWNFOSvLl09H"
      },
      "execution_count": null,
      "outputs": []
    },
    {
      "cell_type": "markdown",
      "source": [
        "### Dataset Rows & Columns count"
      ],
      "metadata": {
        "id": "7hBIi_osiCS2"
      }
    },
    {
      "cell_type": "code",
      "source": [
        "df = pd.read_csv(\"Uber_Request_Data_Cleaned.csv\")\n",
        "print(\"Rows:\", df.shape[0])\n",
        "print(\"Columns:\", df.shape[1])\n"
      ],
      "metadata": {
        "id": "Kllu7SJgmLij"
      },
      "execution_count": null,
      "outputs": []
    },
    {
      "cell_type": "markdown",
      "source": [
        "### Dataset Information"
      ],
      "metadata": {
        "id": "JlHwYmJAmNHm"
      }
    },
    {
      "cell_type": "code",
      "source": [
        "df.info()\n"
      ],
      "metadata": {
        "id": "e9hRXRi6meOf"
      },
      "execution_count": null,
      "outputs": []
    },
    {
      "cell_type": "markdown",
      "source": [
        "#### Duplicate Values"
      ],
      "metadata": {
        "id": "35m5QtbWiB9F"
      }
    },
    {
      "cell_type": "code",
      "source": [
        "df.duplicated().sum()\n"
      ],
      "metadata": {
        "id": "1sLdpKYkmox0"
      },
      "execution_count": null,
      "outputs": []
    },
    {
      "cell_type": "markdown",
      "source": [
        "#### Missing Values/Null Values"
      ],
      "metadata": {
        "id": "PoPl-ycgm1ru"
      }
    },
    {
      "cell_type": "code",
      "source": [
        "df.isnull().sum()\n"
      ],
      "metadata": {
        "id": "GgHWkxvamxVg"
      },
      "execution_count": null,
      "outputs": []
    },
    {
      "cell_type": "code",
      "source": [
        "plt.figure(figsize=(10, 4))\n",
        "sns.heatmap(df.isnull(), cbar=False, cmap=\"viridis\")\n",
        "plt.title(\"Missing Value Heatmap\")\n",
        "plt.show()"
      ],
      "metadata": {
        "id": "3q5wnI3om9sJ"
      },
      "execution_count": null,
      "outputs": []
    },
    {
      "cell_type": "markdown",
      "source": [
        "### What did you know about your dataset?"
      ],
      "metadata": {
        "id": "H0kj-8xxnORC"
      }
    },
    {
      "cell_type": "markdown",
      "source": [
        "Answer HereThe dataset consists of 6,745 Uber ride requests collected over 5 days (from July 11 to July 15, 2016).\n",
        "It contains 6 columns:Request id, Pickup point, Driver id, Status, Request timestamp, Drop timestamp.\n",
        "Timestamps were properly parsed as datetime types.\n",
        "Driver id is often missing for rides that were not completed.\n",
        "Status is a categorical variable with 3 values:\n",
        "\"Trip Completed\", \"Cancelled\", and \"No Cars Available\"\n",
        "\n",
        "\n",
        "\n"
      ],
      "metadata": {
        "id": "gfoNAAC-nUe_"
      }
    },
    {
      "cell_type": "markdown",
      "source": [
        "## ***2. Understanding Your Variables***"
      ],
      "metadata": {
        "id": "nA9Y7ga8ng1Z"
      }
    },
    {
      "cell_type": "code",
      "source": [
        "df.columns\n"
      ],
      "metadata": {
        "id": "j7xfkqrt5Ag5"
      },
      "execution_count": null,
      "outputs": []
    },
    {
      "cell_type": "code",
      "source": [
        "df.describe()"
      ],
      "metadata": {
        "id": "DnOaZdaE5Q5t"
      },
      "execution_count": null,
      "outputs": []
    },
    {
      "cell_type": "markdown",
      "source": [
        "### Variables Description"
      ],
      "metadata": {
        "id": "PBTbrJXOngz2"
      }
    },
    {
      "cell_type": "markdown",
      "source": [
        "\n",
        "Request id =\tUnique identifier for each ride request.\n",
        "Pickup point =\tLocation from where the ride was requested. Values: 'City' or 'Airport'.\n",
        "Driver id\t= ID of the driver assigned to the request. NaN if no driver was assigned.\n",
        "Status =\tFinal status of the ride request:"
      ],
      "metadata": {
        "id": "aJV4KIxSnxay"
      }
    },
    {
      "cell_type": "markdown",
      "source": [
        "### Check Unique Values for each variable."
      ],
      "metadata": {
        "id": "u3PMJOP6ngxN"
      }
    },
    {
      "cell_type": "code",
      "source": [
        "df.nunique()"
      ],
      "metadata": {
        "id": "zms12Yq5n-jE"
      },
      "execution_count": null,
      "outputs": []
    },
    {
      "cell_type": "markdown",
      "source": [
        "## 3. ***Data Wrangling***"
      ],
      "metadata": {
        "id": "dauF4eBmngu3"
      }
    },
    {
      "cell_type": "markdown",
      "source": [
        "### Data Wrangling Code"
      ],
      "metadata": {
        "id": "bKJF3rekwFvQ"
      }
    },
    {
      "cell_type": "code",
      "source": [
        "# Step 1: Import Required Libraries\n",
        "import pandas as pd\n",
        "import numpy as np\n",
        "\n",
        "# Step 2: Load Dataset\n",
        "df = pd.read_csv(\"Uber_Request_Data_Cleaned.csv\", parse_dates=[\"Request timestamp\", \"Drop timestamp\"])\n",
        "\n",
        "# Step 3: Rename Columns for Simplicity (Optional but recommended)\n",
        "df.columns = df.columns.str.strip().str.lower().str.replace(\" \", \"_\")\n",
        "\n",
        "# Step 4: Check for Duplicates and Remove Them\n",
        "print(\"Duplicate rows:\", df.duplicated().sum())\n",
        "df.drop_duplicates(inplace=True)\n",
        "\n",
        "# Step 5: Check for Missing Values\n",
        "print(\"Missing values:\\n\", df.isnull().sum())\n",
        "\n",
        "# Step 6: Feature Engineering – Extract Hour & Day\n",
        "df[\"request_hour\"] = df[\"request_timestamp\"].dt.hour\n",
        "df[\"request_day\"] = df[\"request_timestamp\"].dt.date\n",
        "\n",
        "# Step 7: Create a Categorical Flag for Peak vs Non-Peak Hours (Optional)\n",
        "df[\"time_slot\"] = pd.cut(df[\"request_hour\"],\n",
        "                         bins=[-1, 4, 9, 16, 21, 24],\n",
        "                         labels=[\"Late Night\", \"Morning\", \"Afternoon\", \"Evening\", \"Night\"])\n",
        "\n",
        "# Step 8: Handle Missing Data (Optional)\n",
        "# Drop rows with missing 'request_timestamp' (shouldn’t exist)\n",
        "df.dropna(subset=[\"request_timestamp\"], inplace=True)\n",
        "\n",
        "# Keep missing driver_id and drop_timestamp for later analysis (don't fill yet)\n",
        "\n",
        "# Step 9: Validate Data Types\n",
        "print(df.dtypes)\n",
        "\n",
        "# Step 10: Final Dataset Preview\n",
        "print(\"Final shape:\", df.shape)\n",
        "df.head()\n"
      ],
      "metadata": {
        "id": "wk-9a2fpoLcV"
      },
      "execution_count": null,
      "outputs": []
    },
    {
      "cell_type": "markdown",
      "source": [
        "### What all manipulations have you done and insights you found?"
      ],
      "metadata": {
        "id": "MSa1f5Uengrz"
      }
    },
    {
      "cell_type": "markdown",
      "source": [
        "1. Demand-Supply Gap\n",
        "High number of ride cancellations from the City during early morning hours.\n",
        "\n",
        "Many “No Cars Available” requests from the Airport during late night and early morning, indicating driver shortage.\n",
        "\n",
        "2. Peak Request Hours\n",
        "Most ride requests occurred between 5 AM – 9 AM and 5 PM – 9 PM, indicating peak traffic/demand periods.\n",
        "\n",
        "3. Cancellation & Unavailability Patterns\n",
        "Cancellations peak during Morning (5–9 AM) and Evening (5–9 PM), likely due to traffic or ride refusal.\n",
        "\n",
        "Unavailability is highest during Night (10 PM – 3 AM), especially at the Airport.\n",
        "\n",
        "4. Trip Completion Analysis\n",
        "Majority of completed trips occur between daytime hours (8 AM – 8 PM).\n",
        "\n",
        "Average trip duration ranges from 15–40 minutes, based on completed trips only.\n",
        "\n",
        "5. Pickup Point Trends\n",
        "City has more ride requests overall.\n",
        "\n",
        "Airport requests are more likely to face unavailability, especially during Night."
      ],
      "metadata": {
        "id": "LbyXE7I1olp8"
      }
    },
    {
      "cell_type": "markdown",
      "source": [
        "## ***4. Data Vizualization, Storytelling & Experimenting with charts : Understand the relationships between variables***"
      ],
      "metadata": {
        "id": "GF8Ens_Soomf"
      }
    },
    {
      "cell_type": "markdown",
      "source": [
        "#### Chart - 1"
      ],
      "metadata": {
        "id": "0wOQAZs5pc--"
      }
    },
    {
      "cell_type": "code",
      "source": [
        "plt.figure(figsize=(8, 4))\n",
        "sns.heatmap(df.isnull(), cbar=False, cmap='viridis')\n",
        "plt.title(\"Missing Value Heatmap\")\n",
        "plt.show()"
      ],
      "metadata": {
        "id": "7v_ESjsspbW7"
      },
      "execution_count": null,
      "outputs": []
    },
    {
      "cell_type": "markdown",
      "source": [
        "Visual Simplicity\n",
        "\n",
        "A heatmap of missing values provides a quick visual scan of where data is incomplete.\n",
        "\n",
        "You can instantly see which columns (e.g., driver_id, drop timestamp) have missing values and how frequently.\n",
        "\n",
        "Better Than Just .isnull().sum()\n",
        "\n",
        "While df.isnull().sum() gives raw numbers, a heatmap shows row-by-row distribution of missing data.\n",
        "\n",
        "It helps detect patterns (e.g., entire rows or blocks of rows missing drop_timestamp when status ≠ Trip Completed).\n",
        "\n"
      ],
      "metadata": {
        "id": "K5QZ13OEpz2H"
      }
    },
    {
      "cell_type": "markdown",
      "source": [
        "Answer Here."
      ],
      "metadata": {
        "id": "XESiWehPqBRc"
      }
    },
    {
      "cell_type": "markdown",
      "source": [
        "##### 2. What is/are the insight(s) found from the chart?"
      ],
      "metadata": {
        "id": "lQ7QKXXCp7Bj"
      }
    },
    {
      "cell_type": "markdown",
      "source": [
        "Missing Values Are Not Random\n",
        "Missing values are concentrated in two specific columns:\n",
        "\n",
        "driver_id\n",
        "\n",
        "drop_timestamp\n",
        "\n",
        "2. Driver ID is Missing When No Trip Was Assigned\n",
        "Rows missing driver_id usually correspond to:\n",
        "\n",
        "\"No Cars Available\" — no driver ever accepted the request.\n",
        "\n",
        "\"Cancelled\" — either by user or driver before a match was made.\n",
        "\n",
        "3. Drop Timestamp is Missing for Incomplete Trips\n",
        "drop_timestamp is only present when the trip was successfully completed.\n",
        "\n",
        "It's missing for:\n",
        "\n",
        "Cancelled rides\n",
        "\n",
        "No Cars Available status\n",
        "\n",
        "This is a valid business behavior, not a data error.\n",
        "\n",
        "4. No Missing Values in Request Data\n",
        "Columns like request_id, pickup_point, status, and request_timestamp are fully populated — which is good for analysis."
      ],
      "metadata": {
        "id": "C_j1G7yiqdRP"
      }
    },
    {
      "cell_type": "markdown",
      "source": [
        "Improved Trip Completion Monitoring\n",
        "Insight: drop_timestamp is missing only when the trip is not completed.\n",
        "\n",
        "Impact: Uber can track trip completion rates more accurately and investigate high drop-off zones/times.\n",
        "\n",
        "2.Better Driver Allocation Strategies\n",
        "Insight: driver_id is missing when no driver was assigned (e.g., “No Cars Available”).\n",
        "\n",
        "Impact: This helps identify supply-demand gaps by location and time, so Uber can:\n",
        "\n",
        "Send driver availability alerts during peak demand\n",
        "\n",
        "Offer surge incentives or shift scheduling at high-demand times\n",
        "\n",
        "3. Clean and Trustworthy Data for Analysis\n",
        "Insight: Missing values are logically linked to ride status — not due to data entry errors.\n",
        "\n",
        "Impact: Ensures data integrity for analysts and builds trust in machine learning models using this dataset.\n",
        "\n"
      ],
      "metadata": {
        "id": "448CDAPjqfQr"
      }
    },
    {
      "cell_type": "markdown",
      "source": [],
      "metadata": {
        "id": "KSlN3yHqYklG"
      }
    },
    {
      "cell_type": "markdown",
      "source": [
        "#### Chart - 6"
      ],
      "metadata": {
        "id": "OH-pJp9IphqM"
      }
    },
    {
      "cell_type": "code",
      "source": [
        "print(\"Pickup Point:\\n\", df['pickup_point'].value_counts())\n",
        "print(\"\\nStatus:\\n\", df['status'].value_counts())\n",
        "\n",
        "plt.figure(figsize=(6, 4))\n",
        "sns.countplot(data=df, x=\"status\", order=df[\"status\"].value_counts().index)\n",
        "plt.title(\"Request Status Count\")\n",
        "plt.show()\n"
      ],
      "metadata": {
        "id": "kuRf4wtuphqN"
      },
      "execution_count": null,
      "outputs": []
    },
    {
      "cell_type": "markdown",
      "source": [
        "Visualizes Distribution of Request Outcomes:\n",
        "\n",
        "This countplot is ideal for showing how Uber ride requests ended:\n",
        "\n",
        "Trip Completed\n",
        "\n",
        "Cancelled\n",
        "\n",
        "No Cars Available\n",
        "\n",
        "Categorical Variable → Bar Chart Is Best:\n",
        "\n",
        "The column status is categorical with limited distinct values.\n",
        "\n",
        "A bar chart is the most appropriate tool to compare the frequency of categories.\n",
        "\n",
        "Quickly Identifies Operational Issues:\n",
        "\n",
        "By visualizing how many requests were cancelled or unserved, we can instantly spot potential problems in Uber’s service — like demand–supply gaps or driver unreliability.\n",
        "\n",
        "Establishes Baseline for Further Analysis:\n",
        "\n",
        "This is a foundational EDA chart.\n",
        "\n",
        "It sets the stage for deeper exploration like:\n",
        "\n",
        "Time-based cancellations\n",
        "\n",
        "Location-specific shortages\n",
        "\n",
        "Unmet demand patterns\n",
        "\n"
      ],
      "metadata": {
        "id": "bbFf2-_FphqN"
      }
    },
    {
      "cell_type": "markdown",
      "source": [
        "Answer Here."
      ],
      "metadata": {
        "id": "loh7H2nzphqN"
      }
    },
    {
      "cell_type": "markdown",
      "source": [
        "##### 2. What is/are the insight(s) found from the chart?"
      ],
      "metadata": {
        "id": "_ouA3fa0phqN"
      }
    },
    {
      "cell_type": "markdown",
      "source": [
        "1.Trip Completed is the most common status\n",
        "This indicates that the Uber system is mostly functioning well — many requests are successfully fulfilled.\n",
        "\n",
        "2. Cancelled rides are high (often second in count)\n",
        "A large number of trips are being cancelled, most likely by drivers, especially during peak hours or long distances (e.g., airport trips from the city).\n",
        "\n",
        "Suggests dissatisfaction, inconvenience, or poor driver allocation.\n",
        "\n",
        "3.\"No Cars Available\" is alarmingly frequent\n",
        "Many requests are never matched with a driver.\n",
        "\n",
        "This usually occurs late at night or in low-supply zones like the airport.\n",
        "\n",
        "Indicates a demand-supply imbalance.\n",
        "\n",
        "\n"
      ],
      "metadata": {
        "id": "VECbqPI7phqN"
      }
    },
    {
      "cell_type": "markdown",
      "source": [
        "Yes, the insights from the \"Request Status Count\" chart are critical for driving operational and strategic improvements at Uber.\n",
        "\n",
        " Positive Business Impact:\n",
        "Insight\tPositive Impact\n",
        "High ‘Trip Completed’ count\tConfirms service reliability in certain time slots/locations. Uber can study and replicate these patterns elsewhere.\n",
        "High ‘Cancelled’ count\tIdentifies driver behavior issues (e.g., early morning cancellations). Uber can offer incentives or enforce penalties to reduce cancellations."
      ],
      "metadata": {
        "id": "Seke61FWphqN"
      }
    },
    {
      "cell_type": "markdown",
      "source": [
        "Answer Here"
      ],
      "metadata": {
        "id": "DW4_bGpfphqN"
      }
    },
    {
      "cell_type": "markdown",
      "source": [
        "#### Chart - 7"
      ],
      "metadata": {
        "id": "PIIx-8_IphqN"
      }
    },
    {
      "cell_type": "code",
      "source": [
        "plt.figure(figsize=(6, 4))\n",
        "sns.countplot(data=df, x=\"pickup_point\", hue=\"status\")\n",
        "plt.title(\"Pickup Point vs Status\")\n",
        "plt.show()\n"
      ],
      "metadata": {
        "id": "lqAIGUfyphqO"
      },
      "execution_count": null,
      "outputs": []
    },
    {
      "cell_type": "markdown",
      "source": [
        "##### 1. Why did you pick the specific chart?"
      ],
      "metadata": {
        "id": "t27r6nlMphqO"
      }
    },
    {
      "cell_type": "markdown",
      "source": [
        "This grouped bar chart is chosen to analyze how request statuses vary by pickup location — specifically between City and Airport. Here's why it’s effective:\n",
        "\n",
        "Compares Two Key Categorical Variables\n",
        "pickup_point: tells us where the request originated.\n",
        "\n",
        "status: tells us what happened to the request (Completed, Cancelled, or No Cars Available).\n",
        "\n",
        "The countplot with hue=\"status\" shows how the request outcomes differ between Airport and City."
      ],
      "metadata": {
        "id": "iv6ro40sphqO"
      }
    },
    {
      "cell_type": "markdown",
      "source": [
        "1.City has the highest number of ride requests\n",
        "More rides are requested from the City compared to the Airport.\n",
        "\n",
        "Indicates higher rider activity (demand) in city zones — likely due to work commutes, urban errands, etc.\n",
        "\n",
        "2.Cancellations are more common in the City\n",
        "Many rides from the City are cancelled, often in early morning hours.\n",
        "\n",
        "This suggests drivers may refuse trips to the airport (possibly due to traffic, distance, or return-ride issues).\n",
        "\n"
      ],
      "metadata": {
        "id": "r2jJGEOYphqO"
      }
    },
    {
      "cell_type": "markdown",
      "source": [
        "Answer Here"
      ],
      "metadata": {
        "id": "Po6ZPi4hphqO"
      }
    },
    {
      "cell_type": "markdown",
      "source": [
        "##### 3. Will the gained insights help creating a positive business impact?\n",
        "The insights from the “Pickup Point vs Status” chart provide valuable, location-specific operational intelligence that Uber can directly use to improve service quality, resource allocation, and customer satisfaction."
      ],
      "metadata": {
        "id": "b0JNsNcRphqO"
      }
    },
    {
      "cell_type": "markdown",
      "source": [
        "Answer Here"
      ],
      "metadata": {
        "id": "xvSq8iUTphqO"
      }
    },
    {
      "cell_type": "markdown",
      "source": [
        "#### Chart - 8"
      ],
      "metadata": {
        "id": "BZR9WyysphqO"
      }
    },
    {
      "cell_type": "code",
      "source": [
        "df[\"request_hour\"] = df[\"request_timestamp\"].dt.hour\n",
        "\n",
        "plt.figure(figsize=(10, 4))\n",
        "sns.countplot(x=\"request_hour\", data=df, order=sorted(df[\"request_hour\"].unique()))\n",
        "plt.title(\"Requests by Hour of Day\")\n",
        "plt.xlabel(\"Hour of Day\")\n",
        "plt.ylabel(\"Number of Requests\")\n",
        "plt.show()\n"
      ],
      "metadata": {
        "id": "TdPTWpAVphqO"
      },
      "execution_count": null,
      "outputs": []
    },
    {
      "cell_type": "markdown",
      "source": [
        "##### 1. Why did you pick the specific chart?"
      ],
      "metadata": {
        "id": "jj7wYXLtphqO"
      }
    },
    {
      "cell_type": "markdown",
      "source": [
        "This countplot (bar chart) was selected to understand how rider demand varies throughout the day. Here's why it's a strategic choice:\n",
        "\n",
        " Visualizes Hourly Demand Patterns\n",
        "request_hour shows what time of day people request rides.\n",
        "\n",
        "Helps identify peak and off-peak hours.\n",
        "\n",
        "Essential for resource planning and driver shift scheduling.\n",
        "\n"
      ],
      "metadata": {
        "id": "Ob8u6rCTphqO"
      }
    },
    {
      "cell_type": "markdown",
      "source": [
        "##### 2. What is/are the insight(s) found from the chart?"
      ],
      "metadata": {
        "id": "eZrbJ2SmphqO"
      }
    },
    {
      "cell_type": "markdown",
      "source": [
        "This time-based insight is critical for:\n",
        "\n",
        "Driver shift planning\n",
        "\n",
        "Surge pricing strategy\n",
        "\n",
        "Demand forecasting models\n",
        "\n",
        "It helps Uber align supply with demand — increasing trip completion and reducing customer wait times or cancellations.\n"
      ],
      "metadata": {
        "id": "mZtgC_hjphqO"
      }
    },
    {
      "cell_type": "markdown",
      "source": [
        "##### 3. Will the gained insights help creating a positive business impact?\n",
        "Are there any insights that lead to negative growth? Justify with specific reason."
      ],
      "metadata": {
        "id": "rFu4xreNphqO"
      }
    },
    {
      "cell_type": "markdown",
      "source": [
        "Optimized Driver Scheduling\n",
        "Insight: Ride demand is highest during 5–9 AM and 5–9 PM.\n",
        "\n",
        "Action: Uber can ensure more drivers are online during these hours.\n",
        "\n",
        "Impact: Higher ride fulfillment, reduced wait times, and fewer cancellations.\n"
      ],
      "metadata": {
        "id": "ey_0qi68phqO"
      }
    },
    {
      "cell_type": "markdown",
      "source": [
        "#### Chart - 9"
      ],
      "metadata": {
        "id": "YJ55k-q6phqO"
      }
    },
    {
      "cell_type": "code",
      "source": [
        "# Step 1: Make sure 'trip duration' column is created\n",
        "df[\"trip_duration_min\"] = (df[\"drop_timestamp\"] - df[\"request_timestamp\"]).dt.total_seconds() / 60\n",
        "\n",
        "# Step 2: Filter only completed trips\n",
        "completed_trips = df[df[\"status\"] == \"Trip Completed\"]\n",
        "\n",
        "# Step 3: Now you can plot\n",
        "plt.figure(figsize=(8, 4))\n",
        "sns.histplot(data=completed_trips, x=\"trip_duration_min\", bins=40, kde=True)\n",
        "plt.title(\"Trip Duration Distribution (in Minutes)\")\n",
        "plt.xlabel(\"Duration (min)\")\n",
        "plt.ylabel(\"Number of Trips\")\n",
        "plt.show()\n"
      ],
      "metadata": {
        "id": "B2aS4O1ophqO"
      },
      "execution_count": null,
      "outputs": []
    },
    {
      "cell_type": "markdown",
      "source": [
        "##### 1. Why did you pick the specific chart?"
      ],
      "metadata": {
        "id": "gCFgpxoyphqP"
      }
    },
    {
      "cell_type": "markdown",
      "source": [
        "This chart was selected to analyze the distribution of trip durations for completed Uber rides. It's a histogram with a KDE (smooth curve) overlay, which provides deep insight into how long most rides last.\n",
        "\n"
      ],
      "metadata": {
        "id": "TVxDimi2phqP"
      }
    },
    {
      "cell_type": "markdown",
      "source": [
        "##### 2. What is/are the insight(s) found from the chart?"
      ],
      "metadata": {
        "id": "OVtJsKN_phqQ"
      }
    },
    {
      "cell_type": "markdown",
      "source": [
        "Most trips last between 15 and 40 minutes\n",
        "The highest density (peak of the histogram) is in the 15–40 minute range, showing this is the typical trip duration for Uber users in this dataset.\n",
        "\n",
        "There are short trips too (~5–10 mins)\n",
        "A noticeable number of short trips suggest:\n",
        "\n",
        "Riders using Uber for local, short-distance travel (e.g., within neighborhoods or city zones).\n",
        "\n"
      ],
      "metadata": {
        "id": "ngGi97qjphqQ"
      }
    },
    {
      "cell_type": "markdown",
      "source": [
        "##### 3. Will the gained insights help creating a positive business impact?\n",
        "Are there any insights that lead to negative growth? Justify with specific reason."
      ],
      "metadata": {
        "id": "lssrdh5qphqQ"
      }
    },
    {
      "cell_type": "markdown",
      "source": [
        "The insights gained from the trip duration distribution chart provide valuable information about ride patterns, helping Uber optimize its pricing, route efficiency, and driver operations.\n",
        "\n"
      ],
      "metadata": {
        "id": "tBpY5ekJphqQ"
      }
    },
    {
      "cell_type": "markdown",
      "source": [
        "## **5. Solution to Business Objective**"
      ],
      "metadata": {
        "id": "JcMwzZxoAimU"
      }
    },
    {
      "cell_type": "markdown",
      "source": [
        "#### What do you suggest the client to achieve Business Objective ?\n",
        "Explain Briefly."
      ],
      "metadata": {
        "id": "8G2x9gOozGDZ"
      }
    },
    {
      "cell_type": "markdown",
      "source": [
        "To achieve the business objective of improving ride availability, reducing cancellations, and optimizing operational efficiency, here are strategic and actionable suggestions:\n",
        "\n",
        "1. Balance Supply and Demand with Time- and Location-Based Planning\n",
        "Use historical data (like this analysis) to identify:\n",
        "\n",
        "Peak hours of demand (e.g., 5–9 AM, 5–9 PM)\n",
        "\n",
        "High-failure zones (e.g., Airport at night)\n",
        "\n",
        "Allocate more drivers proactively during these times/places.\n",
        "\n",
        "Apply real-time heatmaps for dynamic driver deployment.\n",
        "\n",
        "2. Introduce Targeted Driver Incentive Programs\n",
        "Offer extra payouts or bonuses during:\n",
        "\n",
        "Early mornings from the City (to reduce cancellations)\n",
        "\n",
        "Late-night at the Airport (to avoid “No Cars Available”)\n",
        "\n",
        "This will encourage drivers to stay active in critical demand slots.\n",
        "\n",
        "3. Implement Predictive Scheduling\n",
        "Use machine learning or simple trend analysis to:\n",
        "\n",
        "Forecast hourly demand\n",
        "\n",
        "Auto-suggest shift timings to drivers via app notifications\n",
        "\n",
        "Helps ensure enough active drivers are available before demand spikes.\n",
        "\n",
        "4. Segment Rides by Trip Duration for Operational Focus\n",
        "Provide quick-service options for short trips (5–10 min)\n",
        "\n",
        "Ensure long-distance trip availability by rotating longer-trip drivers with breaks or incentives\n",
        "\n"
      ],
      "metadata": {
        "id": "pASKb0qOza21"
      }
    },
    {
      "cell_type": "markdown",
      "source": [
        "# **Conclusion**"
      ],
      "metadata": {
        "id": "gCX9965dhzqZ"
      }
    },
    {
      "cell_type": "markdown",
      "source": [
        "This project successfully analyzed Uber ride request data to uncover key operational challenges and provide data-driven solutions. Through exploratory data analysis (EDA), visualizations, and pattern recognition, we identified critical insights that align directly with Uber’s business objective of improving ride availability, driver utilization, and customer satisfaction."
      ],
      "metadata": {
        "id": "Fjb1IsQkh3yE"
      }
    },
    {
      "cell_type": "markdown",
      "source": [
        "### ***Hurrah! You have successfully completed your EDA Capstone Project !!!***"
      ],
      "metadata": {
        "id": "gIfDvo9L0UH2"
      }
    },
    {
      "cell_type": "code",
      "source": [],
      "metadata": {
        "id": "dYX880etpL0x"
      },
      "execution_count": null,
      "outputs": []
    },
    {
      "cell_type": "code",
      "source": [],
      "metadata": {
        "id": "-6Vl263upPVI"
      },
      "execution_count": null,
      "outputs": []
    },
    {
      "cell_type": "markdown",
      "metadata": {
        "id": "f8e85c9b"
      },
      "source": [
        "You can upload the file by clicking the folder icon on the left sidebar, then clicking the upload icon. Once uploaded, you can use the following code to load the data:"
      ]
    },
    {
      "cell_type": "code",
      "metadata": {
        "id": "2a7465c5"
      },
      "source": [
        "from google.colab import files\n",
        "uploaded = files.upload()\n",
        "for filename in uploaded.keys():\n",
        "  print(f'User uploaded file \"{filename}\" with length {len(uploaded[filename])} bytes')"
      ],
      "execution_count": null,
      "outputs": []
    },
    {
      "cell_type": "markdown",
      "metadata": {
        "id": "b6055272"
      },
      "source": [
        "After uploading, you can read the file into a pandas DataFrame:"
      ]
    },
    {
      "cell_type": "code",
      "metadata": {
        "id": "f09c6262"
      },
      "source": [
        "import pandas as pd\n",
        "import io\n",
        "\n",
        "for filename in uploaded.keys():\n",
        "  df = pd.read_csv(io.StringIO(uploaded[filename].decode('utf-8')), parse_dates=[\"Request timestamp\", \"Drop timestamp\"])\n",
        "\n",
        "display(df.head())"
      ],
      "execution_count": null,
      "outputs": []
    }
  ]
}